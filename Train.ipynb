{
 "cells": [
  {
   "cell_type": "code",
   "execution_count": 1,
   "metadata": {},
   "outputs": [],
   "source": [
    "import pandas as pd\n",
    "import numpy as np\n",
    "import random\n",
    "import math\n",
    "from collections import OrderedDict\n",
    "import matplotlib.pyplot as plt\n",
    "import KNN\n",
    "import utils\n",
    "import DT"
   ]
  },
  {
   "cell_type": "code",
   "execution_count": 2,
   "metadata": {
    "scrolled": true
   },
   "outputs": [
    {
     "name": "stdout",
     "output_type": "stream",
     "text": [
      "     age  sex  cp  trestbps  chol  fbs  restecg  thalach  exang  oldpeak  \\\n",
      "0     63    1   3       145   233    1        0      150      0      2.3   \n",
      "1     37    1   2       130   250    0        1      187      0      3.5   \n",
      "2     41    0   1       130   204    0        0      172      0      1.4   \n",
      "3     56    1   1       120   236    0        1      178      0      0.8   \n",
      "4     57    0   0       120   354    0        1      163      1      0.6   \n",
      "..   ...  ...  ..       ...   ...  ...      ...      ...    ...      ...   \n",
      "298   57    0   0       140   241    0        1      123      1      0.2   \n",
      "299   45    1   3       110   264    0        1      132      0      1.2   \n",
      "300   68    1   0       144   193    1        1      141      0      3.4   \n",
      "301   57    1   0       130   131    0        1      115      1      1.2   \n",
      "302   57    0   1       130   236    0        0      174      0      0.0   \n",
      "\n",
      "     slope  ca  thal  target  \n",
      "0        0   0     1       1  \n",
      "1        0   0     2       1  \n",
      "2        2   0     2       1  \n",
      "3        2   0     2       1  \n",
      "4        2   0     2       1  \n",
      "..     ...  ..   ...     ...  \n",
      "298      1   0     3       0  \n",
      "299      1   0     3       0  \n",
      "300      1   2     3       0  \n",
      "301      1   1     3       0  \n",
      "302      1   1     2       0  \n",
      "\n",
      "[303 rows x 14 columns]\n"
     ]
    }
   ],
   "source": [
    "X, Y = utils.read_data(\"/Users/sana/Downloads/HW1-8/data/heart.csv\", 'target')\n",
    "X, Y = utils.preprocessDT(X, Y)\n",
    "X, Y = utils.shuffle(X, Y)"
   ]
  },
  {
   "cell_type": "code",
   "execution_count": 3,
   "metadata": {},
   "outputs": [],
   "source": [
    "Xtrain, Ytrain, Xtest, Ytest = utils.split(X, Y, 0.2)"
   ]
  },
  {
   "cell_type": "code",
   "execution_count": 4,
   "metadata": {
    "scrolled": true
   },
   "outputs": [
    {
     "name": "stdout",
     "output_type": "stream",
     "text": [
      "0.36065573770491804\n",
      "0.36065573770491804\n",
      "0.4918032786885246\n",
      "0.6885245901639344\n",
      "0.6721311475409836\n",
      "0.7704918032786885\n",
      "0.7868852459016393\n",
      "0.7704918032786885\n",
      "0.7704918032786885\n",
      "0.7704918032786885\n",
      "0.7704918032786885\n",
      "0.7704918032786885\n",
      "0.7704918032786885\n"
     ]
    }
   ],
   "source": [
    "percisions = []\n",
    "for i in range(13):\n",
    "    decision_tree = DT.DecisionTree(i, 0.8)\n",
    "    decision_tree.fit(Xtrain, Ytrain)\n",
    "    predicted = decision_tree.predict(Xtest)\n",
    "#     print(predicted)\n",
    "    print(utils.find_percision(predicted, Ytest))\n",
    "    percisions.append(utils.find_percision(predicted, Ytest))"
   ]
  },
  {
   "cell_type": "code",
   "execution_count": 5,
   "metadata": {},
   "outputs": [
    {
     "name": "stderr",
     "output_type": "stream",
     "text": [
      "No handles with labels found to put in legend.\n"
     ]
    },
    {
     "data": {
      "image/png": "[encoded data removed]",
      "text/plain": [
       "<Figure size 432x288 with 1 Axes>"
      ]
     },
     "metadata": {
      "needs_background": "light"
     },
     "output_type": "display_data"
    }
   ],
   "source": [
    "plt.plot(np.arange(13), percisions, 'b')\n",
    "plt.legend(loc='lower right')\n",
    "plt.xlim([0, 12])\n",
    "plt.ylim([0, 1])\n",
    "plt.ylabel('Percision')\n",
    "plt.xlabel('Depth')\n",
    "plt.title('Decision Tree percision')\n",
    "plt.show()"
   ]
  },
  {
   "cell_type": "markdown",
   "metadata": {},
   "source": [
    "<div dir='rtl'>\n",
    "   همانطور که می‌بینیم با بالا رفتن عمق داده ابتدا accuracy بالا رفته‌است، سپس پایین آمده که نشان می‌ دهد اگر عمق درخت زیاد باشد over fit می‌کند موجب می‌شود دقت پایین‌تر بیاید و پایین بودن دقت در عمق‌های کم به دلیل under fit و عدم امکان دست تشخیص دادن می‌باشد.\n",
    "     طبق نتایج  بالا  بهترین عمق ۶ می‌باشد، ولی این معیار نهایی ما نمی‌تواند باشد چون داده‌های تست خیلی رندم انتخاب شدند و این‌گونه  تصمیم‌‌گیری  درست نیست و باید cross validation  انجام دهیم  تا بتوانیم دقت متوسط را بدست آوریم و تصمیم درست‌تر بگیریم. کلا به دلیل shuffle می‌توانیم نمودار‌های متفاوتر از این ببینیم ولی در حال کلی  به صورت  بالا می‌باشد.\n",
    "</div>"
   ]
  },
  {
   "cell_type": "code",
   "execution_count": 6,
   "metadata": {},
   "outputs": [],
   "source": [
    "Xtrainf, Ytrainf, Xtestf, Ytestf = utils.fivefold(Xtrain, Ytrain)"
   ]
  },
  {
   "cell_type": "code",
   "execution_count": 7,
   "metadata": {},
   "outputs": [],
   "source": [
    "percisions = []\n",
    "for i in range(13):\n",
    "    p  = 0\n",
    "    for j in range(5):\n",
    "        decision_tree = DT.DecisionTree(i, 0.8)\n",
    "        decision_tree.fit(Xtrainf[j], Ytrainf[j])\n",
    "        predicted = decision_tree.predict(Xtestf[j])\n",
    "        p += utils.find_percision(predicted, Ytestf[j])\n",
    "    percisions.append(p/5)"
   ]
  },
  {
   "cell_type": "code",
   "execution_count": 8,
   "metadata": {},
   "outputs": [
    {
     "name": "stdout",
     "output_type": "stream",
     "text": [
      "[0.5166666666666667, 0.5166666666666667, 0.3833333333333333, 0.7, 0.7041666666666667, 0.7249999999999999, 0.7291666666666666, 0.7291666666666666, 0.7291666666666666, 0.7291666666666666, 0.7291666666666666, 0.7291666666666666, 0.7291666666666666]\n"
     ]
    }
   ],
   "source": [
    "print(percisions)"
   ]
  },
  {
   "cell_type": "code",
   "execution_count": 9,
   "metadata": {},
   "outputs": [
    {
     "name": "stderr",
     "output_type": "stream",
     "text": [
      "No handles with labels found to put in legend.\n"
     ]
    },
    {
     "data": {
      "image/png": "[encoded data removed]",
      "text/plain": [
       "<Figure size 432x288 with 1 Axes>"
      ]
     },
     "metadata": {
      "needs_background": "light"
     },
     "output_type": "display_data"
    }
   ],
   "source": [
    "plt.plot(np.arange(13), percisions, 'b')\n",
    "plt.legend(loc='lower right')\n",
    "plt.xlim([0, 12])\n",
    "plt.ylim([0, 1])\n",
    "plt.ylabel('Percision')\n",
    "plt.xlabel('Depth')\n",
    "plt.title('Decision Tree percision')\n",
    "plt.show()"
   ]
  },
  {
   "cell_type": "code",
   "execution_count": 10,
   "metadata": {},
   "outputs": [
    {
     "name": "stdout",
     "output_type": "stream",
     "text": [
      "6\n"
     ]
    }
   ],
   "source": [
    "best_d = 0\n",
    "best_acc = 0\n",
    "for i in range(len(percisions)):\n",
    "    if percisions[i] > best_acc :\n",
    "        best_d = i\n",
    "        best_acc = percisions[i]\n",
    "print(best_d)"
   ]
  },
  {
   "cell_type": "code",
   "execution_count": 11,
   "metadata": {},
   "outputs": [],
   "source": [
    "decision_tree = DT.DecisionTree(best_d, 0.8)\n",
    "decision_tree.fit(Xtrain, Ytrain)\n",
    "predictedDT = decision_tree.predict(Xtest)\n",
    "y_scoresDT = decision_tree.predict_prob(Xtest)"
   ]
  },
  {
   "cell_type": "code",
   "execution_count": 12,
   "metadata": {
    "scrolled": true
   },
   "outputs": [
    {
     "name": "stderr",
     "output_type": "stream",
     "text": [
      "No handles with labels found to put in legend.\n"
     ]
    },
    {
     "name": "stdout",
     "output_type": "stream",
     "text": [
      "Confusion Matrix:  [[15, 7], [6, 33]]\n",
      "Confusion Matrix:  [[15, 7], [6, 33]]\n",
      "Accuracy:  0.7868852459016393\n",
      "Precision:  0.825\n",
      "Recall:  0.8461538461538461\n",
      "F1Score:  0.8354430379746836\n",
      "Specificity:  0.6818181818181818\n",
      "1001\n"
     ]
    },
    {
     "data": {
      "image/png": "[encoded data removed]",
      "text/plain": [
       "<Figure size 432x288 with 1 Axes>"
      ]
     },
     "metadata": {
      "needs_background": "light"
     },
     "output_type": "display_data"
    }
   ],
   "source": [
    "utils.confusion_matrix(predictedDT, Ytest)\n",
    "utils.classification_report(predictedDT, Ytest)\n",
    "utils.draw_ROC(y_scoresDT,Ytest)"
   ]
  },
  {
   "cell_type": "code",
   "execution_count": 13,
   "metadata": {
    "scrolled": true
   },
   "outputs": [
    {
     "name": "stdout",
     "output_type": "stream",
     "text": [
      "     age  sex  cp  trestbps  chol  fbs  restecg  thalach  exang  oldpeak  \\\n",
      "0     63    1   3       145   233    1        0      150      0      2.3   \n",
      "1     37    1   2       130   250    0        1      187      0      3.5   \n",
      "2     41    0   1       130   204    0        0      172      0      1.4   \n",
      "3     56    1   1       120   236    0        1      178      0      0.8   \n",
      "4     57    0   0       120   354    0        1      163      1      0.6   \n",
      "..   ...  ...  ..       ...   ...  ...      ...      ...    ...      ...   \n",
      "298   57    0   0       140   241    0        1      123      1      0.2   \n",
      "299   45    1   3       110   264    0        1      132      0      1.2   \n",
      "300   68    1   0       144   193    1        1      141      0      3.4   \n",
      "301   57    1   0       130   131    0        1      115      1      1.2   \n",
      "302   57    0   1       130   236    0        0      174      0      0.0   \n",
      "\n",
      "     slope  ca  thal  target  \n",
      "0        0   0     1       1  \n",
      "1        0   0     2       1  \n",
      "2        2   0     2       1  \n",
      "3        2   0     2       1  \n",
      "4        2   0     2       1  \n",
      "..     ...  ..   ...     ...  \n",
      "298      1   0     3       0  \n",
      "299      1   0     3       0  \n",
      "300      1   2     3       0  \n",
      "301      1   1     3       0  \n",
      "302      1   1     2       0  \n",
      "\n",
      "[303 rows x 14 columns]\n"
     ]
    }
   ],
   "source": [
    "X, Y = utils.read_data(\"/Users/sana/Downloads/HW1-8/data/heart.csv\", 'target')\n",
    "X, Y = utils.shuffle(X, Y)\n",
    "Xtrain, Ytrain, Xtest, Ytest = utils.split(X, Y, 0.2)"
   ]
  },
  {
   "cell_type": "code",
   "execution_count": 14,
   "metadata": {},
   "outputs": [
    {
     "name": "stdout",
     "output_type": "stream",
     "text": [
      "0.7049180327868853\n",
      "0.7049180327868853\n",
      "0.7377049180327869\n",
      "0.7540983606557377\n",
      "0.7540983606557377\n",
      "0.7540983606557377\n",
      "0.7213114754098361\n",
      "0.7540983606557377\n",
      "0.7377049180327869\n",
      "0.7377049180327869\n",
      "0.6885245901639344\n",
      "0.6885245901639344\n",
      "0.7049180327868853\n",
      "0.7049180327868853\n",
      "0.6885245901639344\n"
     ]
    }
   ],
   "source": [
    "percisions = []\n",
    "for i in range(1,16):\n",
    "    knn = KNN.kNN(i)\n",
    "    knn.fit(Xtrain, Ytrain)\n",
    "    predicted = knn.predict(Xtest)\n",
    "#     print(predicted)\n",
    "    print(utils.find_percision(predicted, Ytest))\n",
    "    percisions.append(utils.find_percision(predicted, Ytest))"
   ]
  },
  {
   "cell_type": "code",
   "execution_count": 15,
   "metadata": {},
   "outputs": [
    {
     "name": "stderr",
     "output_type": "stream",
     "text": [
      "No handles with labels found to put in legend.\n"
     ]
    },
    {
     "data": {
      "image/png": "[encoded data removed]",
      "text/plain": [
       "<Figure size 432x288 with 1 Axes>"
      ]
     },
     "metadata": {
      "needs_background": "light"
     },
     "output_type": "display_data"
    }
   ],
   "source": [
    "plt.plot(np.arange(1,16), percisions, 'b')\n",
    "plt.legend(loc='lower right')\n",
    "plt.xlim([1, 15])\n",
    "plt.ylim([0, 1])\n",
    "plt.ylabel('Percision')\n",
    "plt.xlabel('Neigburs')\n",
    "plt.title('KNN percision')\n",
    "plt.show()"
   ]
  },
  {
   "cell_type": "markdown",
   "metadata": {},
   "source": [
    "<div dir='rtl'>\n",
    "همانطور که می‌بیند نمودار خیلی بالا پایین رفته اما اگر روند کلی آن را در نظر بگیریم٬ با افزایش k ابتدا accuracy بالا رفته  سپس پایین آمده، که این نشان دهنده این است که ابتدا  با کم بودن  k، overfit  کرده بود و accuracy پایین‌تری داشت،  با بالا رفتن k ابتدا  fit شده و بهترین مقدار‌ها برای k یعنی ۴، ۵، ۶  و ۸ را به دست آورده. سپس با  بالاتر رفتن k، underfit اتفاق افتاده و accuracy پایین‌تر آمده‌‌است.\n",
    "    ولی این معیار نهایی ما نمی‌تواند باشد چون داده‌های تست خیلی رندم انتخاب شدند و این‌گونه  تصمیم‌‌گیری  درست نیست و باید cross validation  انجام دهیم  تا بتوانیم دقت متوسط را بدست آوریم و تصمیم درست‌تر بگیریم. کلا به دلیل shuffle می‌توانیم نمودار‌های متفاوتر از این ببینیم ولی در حال کلی  به صورت  بالا می‌باشد.\n",
    "</div>\n",
    "\n"
   ]
  },
  {
   "cell_type": "code",
   "execution_count": 16,
   "metadata": {},
   "outputs": [],
   "source": [
    "Xtrainf, Ytrainf, Xtestf, Ytestf = utils.fivefold(Xtrain, Ytrain)"
   ]
  },
  {
   "cell_type": "code",
   "execution_count": 17,
   "metadata": {},
   "outputs": [],
   "source": [
    "percisions = []\n",
    "for i in range(1,16):\n",
    "    p  = 0\n",
    "    for j in range(5):\n",
    "        knn = KNN.kNN(i)\n",
    "        knn.fit(Xtrainf[j], Ytrainf[j])\n",
    "        predicted = knn.predict(Xtestf[j])\n",
    "        p += utils.find_percision(predicted, Ytestf[j])\n",
    "    percisions.append(p/5)"
   ]
  },
  {
   "cell_type": "code",
   "execution_count": 18,
   "metadata": {},
   "outputs": [
    {
     "name": "stdout",
     "output_type": "stream",
     "text": [
      "[0.5166666666666667, 0.5166666666666667, 0.5416666666666666, 0.5375000000000001, 0.5874999999999999, 0.5333333333333333, 0.5833333333333333, 0.575, 0.6000000000000001, 0.5875, 0.6083333333333333, 0.6125, 0.6208333333333333, 0.5916666666666667, 0.5833333333333333]\n"
     ]
    }
   ],
   "source": [
    "print(percisions)"
   ]
  },
  {
   "cell_type": "code",
   "execution_count": 19,
   "metadata": {},
   "outputs": [
    {
     "name": "stderr",
     "output_type": "stream",
     "text": [
      "No handles with labels found to put in legend.\n"
     ]
    },
    {
     "data": {
      "image/png": "[encoded data removed]",
      "text/plain": [
       "<Figure size 432x288 with 1 Axes>"
      ]
     },
     "metadata": {
      "needs_background": "light"
     },
     "output_type": "display_data"
    }
   ],
   "source": [
    "plt.plot(np.arange(1,16), percisions, 'b')\n",
    "plt.legend(loc='lower right')\n",
    "plt.xlim([1, 15])\n",
    "plt.ylim([0, 1])\n",
    "plt.ylabel('Percision')\n",
    "plt.xlabel('Neigburs')\n",
    "plt.title('KNN percision')\n",
    "plt.show()"
   ]
  },
  {
   "cell_type": "code",
   "execution_count": 20,
   "metadata": {},
   "outputs": [
    {
     "name": "stdout",
     "output_type": "stream",
     "text": [
      "12\n"
     ]
    }
   ],
   "source": [
    "best_K = 0\n",
    "best_acc = 0\n",
    "for i in range(len(percisions)):\n",
    "    if percisions[i] > best_acc :\n",
    "        best_K = i\n",
    "        best_acc = percisions[i]\n",
    "print(best_K)"
   ]
  },
  {
   "cell_type": "code",
   "execution_count": 21,
   "metadata": {},
   "outputs": [],
   "source": [
    "knn = KNN.kNN(best_K)\n",
    "knn.fit(Xtrain, Ytrain)\n",
    "predictedKnn = knn.predict(Xtest)\n",
    "y_scoresKnn = knn.predict_prob(Xtest)"
   ]
  },
  {
   "cell_type": "code",
   "execution_count": 22,
   "metadata": {
    "scrolled": true
   },
   "outputs": [
    {
     "name": "stderr",
     "output_type": "stream",
     "text": [
      "No handles with labels found to put in legend.\n"
     ]
    },
    {
     "name": "stdout",
     "output_type": "stream",
     "text": [
      "Confusion Matrix:  [[23, 13], [6, 19]]\n",
      "Confusion Matrix:  [[23, 13], [6, 19]]\n",
      "Accuracy:  0.6885245901639344\n",
      "Precision:  0.59375\n",
      "Recall:  0.76\n",
      "F1Score:  0.6666666666666666\n",
      "Specificity:  0.6388888888888888\n",
      "1001\n"
     ]
    },
    {
     "data": {
      "image/png": "[encoded data removed]",
      "text/plain": [
       "<Figure size 432x288 with 1 Axes>"
      ]
     },
     "metadata": {
      "needs_background": "light"
     },
     "output_type": "display_data"
    }
   ],
   "source": [
    "utils.confusion_matrix(predictedKnn, Ytest)\n",
    "utils.classification_report(predictedKnn, Ytest)\n",
    "utils.draw_ROC(y_scoresKnn,Ytest)"
   ]
  },
  {
   "cell_type": "code",
   "execution_count": 26,
   "metadata": {
    "scrolled": true
   },
   "outputs": [
    {
     "name": "stdout",
     "output_type": "stream",
     "text": [
      "61\n",
      "0.93577\n",
      "P-value is: 12.846000000000002  \n",
      "t-value: 1.538218091741372\n"
     ]
    }
   ],
   "source": [
    "a= [0 for i in range(len(predictedKnn))]\n",
    "for i in range(len(predictedKnn)):\n",
    "    if predictedKnn[i] == Ytest[i]:\n",
    "        a[i] = 1\n",
    "b= [0 for i in range(len(predictedKnn))]\n",
    "for i in range(len(predictedDT)):\n",
    "    if predictedDT[i] == Ytest[i]:\n",
    "        b[i] = 1\n",
    "print(len(a))\n",
    "# t_test(np.array([1, 1, 1, 0, 1, 1, 0, 1, 0, 1, 0, 0, 0, 0, 0, 0, 0, 1, 1, 1, 1, 0, 1, 1, 1, 1, 1, 1, 0, 1, 0, 1, 1, 1, 0, 1, 0, 1, 1, 1, 0, 1, 1, 1, 1, 0, 1, 1, 1, 1, 1, 0, 1, 1, 1, 1, 1, 0, 0, 0, 1]),\n",
    "#        np.array([1, 0, 1, 1, 0, 1, 1, 1, 1, 0, 0, 0, 1, 1, 0, 0, 1, 1, 0, 1, 0, 0, 0, 0, 1, 1, 0, 0, 1, 1, 1, 1, 1, 1, 1, 0, 1, 1, 0, 1, 1, 0, 1, 1, 0, 1, 1, 1, 1, 1, 1, 0, 0, 0, 0, 1, 1, 0, 1, 1, 0]))\n",
    "print(\"t-value:\",utils.t_test(a,b))"
   ]
  },
  {
   "cell_type": "markdown",
   "metadata": {},
   "source": [
    "<div dir='rtl'>\n",
    "در t-test در نظر گرفته شده٬ null-hypothesis: هر دو classifier از نظر بهتر بودن در یک سطح هستند. not null-hypothesis: یکی از classifierها از دیگری بهتر است.\n",
    "    در بالا p-value برابر ۱۲.۸۴ می‌باشد . از این می‌‌توان نتیجه گرفت که احتمال دیدن تفاوتی به این اندازه بین ۲ classifier برابر ۱۲.۸۴٪ است.\n",
    "    significance برابر ۸۷.۱۶ ٪ است.\n",
    "</div>"
   ]
  }
 ],
 "metadata": {
  "kernelspec": {
   "display_name": "Python 3",
   "language": "python",
   "name": "python3"
  },
  "language_info": {
   "codemirror_mode": {
    "name": "ipython",
    "version": 3
   },
   "file_extension": ".py",
   "mimetype": "text/x-python",
   "name": "python",
   "nbconvert_exporter": "python",
   "pygments_lexer": "ipython3",
   "version": "3.7.4"
  }
 },
 "nbformat": 4,
 "nbformat_minor": 2
}
