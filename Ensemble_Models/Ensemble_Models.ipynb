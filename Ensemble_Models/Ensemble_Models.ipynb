{
 "cells": [
  {
   "cell_type": "markdown",
   "metadata": {
    "colab_type": "text",
    "id": "efrE1Lc0Otrq"
   },
   "source": [
    "# **Machine Learning in Bioinformatics**"
   ]
  },
  {
   "cell_type": "markdown",
   "metadata": {
    "colab_type": "text",
    "id": "GtzvENmYOtxi"
   },
   "source": [
    "**Homework 3:**<br/>\n",
    "!!! If you don't fill these fields, your homework does not count !!!<br/>\n",
    "first name and last name : ثنا آیرملو<br/>\n",
    "student number : ۹۶۱۰۱۲۸۴"
   ]
  },
  {
   "cell_type": "markdown",
   "metadata": {
    "colab_type": "text",
    "id": "KG3vb72VOt4G"
   },
   "source": [
    "You can run cells by hitting `Shift` + `Enter` or `ctrl` + `Enter`.<br/>\n",
    "We highly recommend you to read each line of code carefully and try to \n",
    "understand what it exactly does.<br/>\n",
    "Just alter the parts that is between green comments and specified for you. <br/>\n",
    "Please do not change other parts."
   ]
  },
  {
   "cell_type": "code",
   "execution_count": 20,
   "metadata": {
    "colab": {},
    "colab_type": "code",
    "id": "v0dotHjRO5x_"
   },
   "outputs": [],
   "source": [
    "# importing libraries\n",
    "import pandas as pd\n",
    "import numpy as np\n",
    "import matplotlib.pyplot as plt\n",
    "from sklearn.model_selection import train_test_split\n",
    "import numpy as np\n",
    "from sklearn.datasets import load_breast_cancer "
   ]
  },
  {
   "cell_type": "markdown",
   "metadata": {
    "colab_type": "text",
    "id": "_5C6lgUtO-bg"
   },
   "source": [
    "\n",
    "### about the Data:<br/>\n",
    "The purpose of this project is to classify tumors into malignant or benign. The following dataset is constructed based on images of tumors. Features are computed from a digitized image of a fine needle aspirate (FNA) of a breast mass.\n",
    "For more details about the features of this dataset you can visit this link:\n",
    "https://scikit-learn.org/stable/datasets/index.html#breast-cancer-dataset<br/>\n",
    "This dataset contains 30 features and 1 label called target.\n",
    "The original dataset labels are 0 and 1 and in the following code boxes we change it to -1 and 1."
   ]
  },
  {
   "cell_type": "code",
   "execution_count": 27,
   "metadata": {
    "colab": {},
    "colab_type": "code",
    "id": "-7_g8ApcO7tm"
   },
   "outputs": [
    {
     "data": {
      "text/html": [
       "<div>\n",
       "<style scoped>\n",
       "    .dataframe tbody tr th:only-of-type {\n",
       "        vertical-align: middle;\n",
       "    }\n",
       "\n",
       "    .dataframe tbody tr th {\n",
       "        vertical-align: top;\n",
       "    }\n",
       "\n",
       "    .dataframe thead th {\n",
       "        text-align: right;\n",
       "    }\n",
       "</style>\n",
       "<table border=\"1\" class=\"dataframe\">\n",
       "  <thead>\n",
       "    <tr style=\"text-align: right;\">\n",
       "      <th></th>\n",
       "      <th>mean radius</th>\n",
       "      <th>mean texture</th>\n",
       "      <th>mean perimeter</th>\n",
       "      <th>mean area</th>\n",
       "      <th>mean smoothness</th>\n",
       "      <th>mean compactness</th>\n",
       "      <th>mean concavity</th>\n",
       "      <th>mean concave points</th>\n",
       "      <th>mean symmetry</th>\n",
       "      <th>mean fractal dimension</th>\n",
       "      <th>...</th>\n",
       "      <th>worst texture</th>\n",
       "      <th>worst perimeter</th>\n",
       "      <th>worst area</th>\n",
       "      <th>worst smoothness</th>\n",
       "      <th>worst compactness</th>\n",
       "      <th>worst concavity</th>\n",
       "      <th>worst concave points</th>\n",
       "      <th>worst symmetry</th>\n",
       "      <th>worst fractal dimension</th>\n",
       "      <th>target</th>\n",
       "    </tr>\n",
       "  </thead>\n",
       "  <tbody>\n",
       "    <tr>\n",
       "      <th>0</th>\n",
       "      <td>17.99</td>\n",
       "      <td>10.38</td>\n",
       "      <td>122.80</td>\n",
       "      <td>1001.0</td>\n",
       "      <td>0.11840</td>\n",
       "      <td>0.27760</td>\n",
       "      <td>0.3001</td>\n",
       "      <td>0.14710</td>\n",
       "      <td>0.2419</td>\n",
       "      <td>0.07871</td>\n",
       "      <td>...</td>\n",
       "      <td>17.33</td>\n",
       "      <td>184.60</td>\n",
       "      <td>2019.0</td>\n",
       "      <td>0.1622</td>\n",
       "      <td>0.6656</td>\n",
       "      <td>0.7119</td>\n",
       "      <td>0.2654</td>\n",
       "      <td>0.4601</td>\n",
       "      <td>0.11890</td>\n",
       "      <td>-1.0</td>\n",
       "    </tr>\n",
       "    <tr>\n",
       "      <th>1</th>\n",
       "      <td>20.57</td>\n",
       "      <td>17.77</td>\n",
       "      <td>132.90</td>\n",
       "      <td>1326.0</td>\n",
       "      <td>0.08474</td>\n",
       "      <td>0.07864</td>\n",
       "      <td>0.0869</td>\n",
       "      <td>0.07017</td>\n",
       "      <td>0.1812</td>\n",
       "      <td>0.05667</td>\n",
       "      <td>...</td>\n",
       "      <td>23.41</td>\n",
       "      <td>158.80</td>\n",
       "      <td>1956.0</td>\n",
       "      <td>0.1238</td>\n",
       "      <td>0.1866</td>\n",
       "      <td>0.2416</td>\n",
       "      <td>0.1860</td>\n",
       "      <td>0.2750</td>\n",
       "      <td>0.08902</td>\n",
       "      <td>-1.0</td>\n",
       "    </tr>\n",
       "    <tr>\n",
       "      <th>2</th>\n",
       "      <td>19.69</td>\n",
       "      <td>21.25</td>\n",
       "      <td>130.00</td>\n",
       "      <td>1203.0</td>\n",
       "      <td>0.10960</td>\n",
       "      <td>0.15990</td>\n",
       "      <td>0.1974</td>\n",
       "      <td>0.12790</td>\n",
       "      <td>0.2069</td>\n",
       "      <td>0.05999</td>\n",
       "      <td>...</td>\n",
       "      <td>25.53</td>\n",
       "      <td>152.50</td>\n",
       "      <td>1709.0</td>\n",
       "      <td>0.1444</td>\n",
       "      <td>0.4245</td>\n",
       "      <td>0.4504</td>\n",
       "      <td>0.2430</td>\n",
       "      <td>0.3613</td>\n",
       "      <td>0.08758</td>\n",
       "      <td>-1.0</td>\n",
       "    </tr>\n",
       "    <tr>\n",
       "      <th>3</th>\n",
       "      <td>11.42</td>\n",
       "      <td>20.38</td>\n",
       "      <td>77.58</td>\n",
       "      <td>386.1</td>\n",
       "      <td>0.14250</td>\n",
       "      <td>0.28390</td>\n",
       "      <td>0.2414</td>\n",
       "      <td>0.10520</td>\n",
       "      <td>0.2597</td>\n",
       "      <td>0.09744</td>\n",
       "      <td>...</td>\n",
       "      <td>26.50</td>\n",
       "      <td>98.87</td>\n",
       "      <td>567.7</td>\n",
       "      <td>0.2098</td>\n",
       "      <td>0.8663</td>\n",
       "      <td>0.6869</td>\n",
       "      <td>0.2575</td>\n",
       "      <td>0.6638</td>\n",
       "      <td>0.17300</td>\n",
       "      <td>-1.0</td>\n",
       "    </tr>\n",
       "    <tr>\n",
       "      <th>4</th>\n",
       "      <td>20.29</td>\n",
       "      <td>14.34</td>\n",
       "      <td>135.10</td>\n",
       "      <td>1297.0</td>\n",
       "      <td>0.10030</td>\n",
       "      <td>0.13280</td>\n",
       "      <td>0.1980</td>\n",
       "      <td>0.10430</td>\n",
       "      <td>0.1809</td>\n",
       "      <td>0.05883</td>\n",
       "      <td>...</td>\n",
       "      <td>16.67</td>\n",
       "      <td>152.20</td>\n",
       "      <td>1575.0</td>\n",
       "      <td>0.1374</td>\n",
       "      <td>0.2050</td>\n",
       "      <td>0.4000</td>\n",
       "      <td>0.1625</td>\n",
       "      <td>0.2364</td>\n",
       "      <td>0.07678</td>\n",
       "      <td>-1.0</td>\n",
       "    </tr>\n",
       "  </tbody>\n",
       "</table>\n",
       "<p>5 rows × 31 columns</p>\n",
       "</div>"
      ],
      "text/plain": [
       "   mean radius  mean texture  mean perimeter  mean area  mean smoothness  \\\n",
       "0        17.99         10.38          122.80     1001.0          0.11840   \n",
       "1        20.57         17.77          132.90     1326.0          0.08474   \n",
       "2        19.69         21.25          130.00     1203.0          0.10960   \n",
       "3        11.42         20.38           77.58      386.1          0.14250   \n",
       "4        20.29         14.34          135.10     1297.0          0.10030   \n",
       "\n",
       "   mean compactness  mean concavity  mean concave points  mean symmetry  \\\n",
       "0           0.27760          0.3001              0.14710         0.2419   \n",
       "1           0.07864          0.0869              0.07017         0.1812   \n",
       "2           0.15990          0.1974              0.12790         0.2069   \n",
       "3           0.28390          0.2414              0.10520         0.2597   \n",
       "4           0.13280          0.1980              0.10430         0.1809   \n",
       "\n",
       "   mean fractal dimension  ...  worst texture  worst perimeter  worst area  \\\n",
       "0                 0.07871  ...          17.33           184.60      2019.0   \n",
       "1                 0.05667  ...          23.41           158.80      1956.0   \n",
       "2                 0.05999  ...          25.53           152.50      1709.0   \n",
       "3                 0.09744  ...          26.50            98.87       567.7   \n",
       "4                 0.05883  ...          16.67           152.20      1575.0   \n",
       "\n",
       "   worst smoothness  worst compactness  worst concavity  worst concave points  \\\n",
       "0            0.1622             0.6656           0.7119                0.2654   \n",
       "1            0.1238             0.1866           0.2416                0.1860   \n",
       "2            0.1444             0.4245           0.4504                0.2430   \n",
       "3            0.2098             0.8663           0.6869                0.2575   \n",
       "4            0.1374             0.2050           0.4000                0.1625   \n",
       "\n",
       "   worst symmetry  worst fractal dimension  target  \n",
       "0          0.4601                  0.11890    -1.0  \n",
       "1          0.2750                  0.08902    -1.0  \n",
       "2          0.3613                  0.08758    -1.0  \n",
       "3          0.6638                  0.17300    -1.0  \n",
       "4          0.2364                  0.07678    -1.0  \n",
       "\n",
       "[5 rows x 31 columns]"
      ]
     },
     "execution_count": 27,
     "metadata": {},
     "output_type": "execute_result"
    }
   ],
   "source": [
    "cancer = load_breast_cancer()  ## change if the data set changed\n",
    "cancer.target = np.where(cancer.target==0, -1, cancer.target)\n",
    "df = pd.DataFrame(np.c_[cancer[\"data\"], cancer[\"target\"]], columns = np.append(cancer[\"feature_names\"],[\"target\"]))\n",
    "features = ['mean radius', 'mean texture', 'mean perimeter', 'mean area', 'mean smoothness', 'mean compactness', 'mean concavity', 'mean concave points', 'mean symmetry', 'mean fractal dimension', 'radius error', 'texture error', 'perimeter error', 'area error', 'smoothness error', 'compactness error', 'concavity error', 'concave points error', 'symmetry error', 'fractal dimension error', 'worst radius', 'worst texture', 'worst perimeter', 'worst area', 'worst smoothness', 'worst compactness', 'worst concavity', 'worst concave points', 'worst symmetry', 'worst fractal dimension']\n",
    "df.head()"
   ]
  },
  {
   "cell_type": "code",
   "execution_count": 28,
   "metadata": {
    "colab": {},
    "colab_type": "code",
    "id": "jmmK95OVPDyg"
   },
   "outputs": [
    {
     "name": "stdout",
     "output_type": "stream",
     "text": [
      "69.94727592267135 %\n",
      "69.94727592267135 %\n",
      "20.035149384885763 %\n",
      "20.035149384885763 %\n",
      "10.017574692442881 %\n",
      "10.017574692442881 %\n"
     ]
    },
    {
     "data": {
      "text/html": [
       "<div>\n",
       "<style scoped>\n",
       "    .dataframe tbody tr th:only-of-type {\n",
       "        vertical-align: middle;\n",
       "    }\n",
       "\n",
       "    .dataframe tbody tr th {\n",
       "        vertical-align: top;\n",
       "    }\n",
       "\n",
       "    .dataframe thead th {\n",
       "        text-align: right;\n",
       "    }\n",
       "</style>\n",
       "<table border=\"1\" class=\"dataframe\">\n",
       "  <thead>\n",
       "    <tr style=\"text-align: right;\">\n",
       "      <th></th>\n",
       "      <th>mean radius</th>\n",
       "      <th>mean texture</th>\n",
       "      <th>mean perimeter</th>\n",
       "      <th>mean area</th>\n",
       "      <th>mean smoothness</th>\n",
       "      <th>mean compactness</th>\n",
       "      <th>mean concavity</th>\n",
       "      <th>mean concave points</th>\n",
       "      <th>mean symmetry</th>\n",
       "      <th>mean fractal dimension</th>\n",
       "      <th>...</th>\n",
       "      <th>worst radius</th>\n",
       "      <th>worst texture</th>\n",
       "      <th>worst perimeter</th>\n",
       "      <th>worst area</th>\n",
       "      <th>worst smoothness</th>\n",
       "      <th>worst compactness</th>\n",
       "      <th>worst concavity</th>\n",
       "      <th>worst concave points</th>\n",
       "      <th>worst symmetry</th>\n",
       "      <th>worst fractal dimension</th>\n",
       "    </tr>\n",
       "  </thead>\n",
       "  <tbody>\n",
       "    <tr>\n",
       "      <th>0</th>\n",
       "      <td>0.521037</td>\n",
       "      <td>0.022658</td>\n",
       "      <td>0.545989</td>\n",
       "      <td>0.363733</td>\n",
       "      <td>0.593753</td>\n",
       "      <td>0.792037</td>\n",
       "      <td>0.703140</td>\n",
       "      <td>0.731113</td>\n",
       "      <td>0.686364</td>\n",
       "      <td>0.605518</td>\n",
       "      <td>...</td>\n",
       "      <td>0.620776</td>\n",
       "      <td>0.141525</td>\n",
       "      <td>0.668310</td>\n",
       "      <td>0.450698</td>\n",
       "      <td>0.601136</td>\n",
       "      <td>0.619292</td>\n",
       "      <td>0.568610</td>\n",
       "      <td>0.912027</td>\n",
       "      <td>0.598462</td>\n",
       "      <td>0.418864</td>\n",
       "    </tr>\n",
       "    <tr>\n",
       "      <th>1</th>\n",
       "      <td>0.643144</td>\n",
       "      <td>0.272574</td>\n",
       "      <td>0.615783</td>\n",
       "      <td>0.501591</td>\n",
       "      <td>0.289880</td>\n",
       "      <td>0.181768</td>\n",
       "      <td>0.203608</td>\n",
       "      <td>0.348757</td>\n",
       "      <td>0.379798</td>\n",
       "      <td>0.141323</td>\n",
       "      <td>...</td>\n",
       "      <td>0.606901</td>\n",
       "      <td>0.303571</td>\n",
       "      <td>0.539818</td>\n",
       "      <td>0.435214</td>\n",
       "      <td>0.347553</td>\n",
       "      <td>0.154563</td>\n",
       "      <td>0.192971</td>\n",
       "      <td>0.639175</td>\n",
       "      <td>0.233590</td>\n",
       "      <td>0.222878</td>\n",
       "    </tr>\n",
       "    <tr>\n",
       "      <th>2</th>\n",
       "      <td>0.601496</td>\n",
       "      <td>0.390260</td>\n",
       "      <td>0.595743</td>\n",
       "      <td>0.449417</td>\n",
       "      <td>0.514309</td>\n",
       "      <td>0.431017</td>\n",
       "      <td>0.462512</td>\n",
       "      <td>0.635686</td>\n",
       "      <td>0.509596</td>\n",
       "      <td>0.211247</td>\n",
       "      <td>...</td>\n",
       "      <td>0.556386</td>\n",
       "      <td>0.360075</td>\n",
       "      <td>0.508442</td>\n",
       "      <td>0.374508</td>\n",
       "      <td>0.483590</td>\n",
       "      <td>0.385375</td>\n",
       "      <td>0.359744</td>\n",
       "      <td>0.835052</td>\n",
       "      <td>0.403706</td>\n",
       "      <td>0.213433</td>\n",
       "    </tr>\n",
       "    <tr>\n",
       "      <th>3</th>\n",
       "      <td>0.210090</td>\n",
       "      <td>0.360839</td>\n",
       "      <td>0.233501</td>\n",
       "      <td>0.102906</td>\n",
       "      <td>0.811321</td>\n",
       "      <td>0.811361</td>\n",
       "      <td>0.565604</td>\n",
       "      <td>0.522863</td>\n",
       "      <td>0.776263</td>\n",
       "      <td>1.000000</td>\n",
       "      <td>...</td>\n",
       "      <td>0.248310</td>\n",
       "      <td>0.385928</td>\n",
       "      <td>0.241347</td>\n",
       "      <td>0.094008</td>\n",
       "      <td>0.915472</td>\n",
       "      <td>0.814012</td>\n",
       "      <td>0.548642</td>\n",
       "      <td>0.884880</td>\n",
       "      <td>1.000000</td>\n",
       "      <td>0.773711</td>\n",
       "    </tr>\n",
       "    <tr>\n",
       "      <th>4</th>\n",
       "      <td>0.629893</td>\n",
       "      <td>0.156578</td>\n",
       "      <td>0.630986</td>\n",
       "      <td>0.489290</td>\n",
       "      <td>0.430351</td>\n",
       "      <td>0.347893</td>\n",
       "      <td>0.463918</td>\n",
       "      <td>0.518390</td>\n",
       "      <td>0.378283</td>\n",
       "      <td>0.186816</td>\n",
       "      <td>...</td>\n",
       "      <td>0.519744</td>\n",
       "      <td>0.123934</td>\n",
       "      <td>0.506948</td>\n",
       "      <td>0.341575</td>\n",
       "      <td>0.437364</td>\n",
       "      <td>0.172415</td>\n",
       "      <td>0.319489</td>\n",
       "      <td>0.558419</td>\n",
       "      <td>0.157500</td>\n",
       "      <td>0.142595</td>\n",
       "    </tr>\n",
       "  </tbody>\n",
       "</table>\n",
       "<p>5 rows × 30 columns</p>\n",
       "</div>"
      ],
      "text/plain": [
       "   mean radius  mean texture  mean perimeter  mean area  mean smoothness  \\\n",
       "0     0.521037      0.022658        0.545989   0.363733         0.593753   \n",
       "1     0.643144      0.272574        0.615783   0.501591         0.289880   \n",
       "2     0.601496      0.390260        0.595743   0.449417         0.514309   \n",
       "3     0.210090      0.360839        0.233501   0.102906         0.811321   \n",
       "4     0.629893      0.156578        0.630986   0.489290         0.430351   \n",
       "\n",
       "   mean compactness  mean concavity  mean concave points  mean symmetry  \\\n",
       "0          0.792037        0.703140             0.731113       0.686364   \n",
       "1          0.181768        0.203608             0.348757       0.379798   \n",
       "2          0.431017        0.462512             0.635686       0.509596   \n",
       "3          0.811361        0.565604             0.522863       0.776263   \n",
       "4          0.347893        0.463918             0.518390       0.378283   \n",
       "\n",
       "   mean fractal dimension  ...  worst radius  worst texture  worst perimeter  \\\n",
       "0                0.605518  ...      0.620776       0.141525         0.668310   \n",
       "1                0.141323  ...      0.606901       0.303571         0.539818   \n",
       "2                0.211247  ...      0.556386       0.360075         0.508442   \n",
       "3                1.000000  ...      0.248310       0.385928         0.241347   \n",
       "4                0.186816  ...      0.519744       0.123934         0.506948   \n",
       "\n",
       "   worst area  worst smoothness  worst compactness  worst concavity  \\\n",
       "0    0.450698          0.601136           0.619292         0.568610   \n",
       "1    0.435214          0.347553           0.154563         0.192971   \n",
       "2    0.374508          0.483590           0.385375         0.359744   \n",
       "3    0.094008          0.915472           0.814012         0.548642   \n",
       "4    0.341575          0.437364           0.172415         0.319489   \n",
       "\n",
       "   worst concave points  worst symmetry  worst fractal dimension  \n",
       "0              0.912027        0.598462                 0.418864  \n",
       "1              0.639175        0.233590                 0.222878  \n",
       "2              0.835052        0.403706                 0.213433  \n",
       "3              0.884880        1.000000                 0.773711  \n",
       "4              0.558419        0.157500                 0.142595  \n",
       "\n",
       "[5 rows x 30 columns]"
      ]
     },
     "execution_count": 28,
     "metadata": {},
     "output_type": "execute_result"
    }
   ],
   "source": [
    "X_train ,X_test ,X_val ,y_train ,y_test ,y_val = None ,None ,None ,None ,None ,None\n",
    "################################################################################\n",
    "# TODO:                                                                        #\n",
    "# 1- Normalize tha data.                                                       #\n",
    "# 2- using train_test_split package, split your data into 3 numpy array        #\n",
    "# called X_train, X_test, and X_val and also split the corresponding labels as #\n",
    "# y_train, y_test, and y_val. After spliting, the ratio of your data should be # \n",
    "# approximately like this:                                                     #\n",
    "#  Train : 70%     test : 20%       validation : 10%                           #\n",
    "################################################################################\n",
    "\n",
    "for feature_name in df.columns:\n",
    "    if feature_name != 'target':\n",
    "        max_value = df[feature_name].max()\n",
    "        min_value = df[feature_name].min()\n",
    "        df[feature_name] = (df[feature_name] - min_value) / (max_value - min_value)\n",
    "y = df['target'].values\n",
    "df = df.drop(['target'], axis=1)\n",
    "X = df.values\n",
    "X_train, X_test, y_train, y_test = train_test_split(X, y, test_size=0.2)\n",
    "X_train, X_val, y_train, y_val = train_test_split(X_train, y_train, test_size=0.125)\n",
    "\n",
    "        \n",
    "################################################################################\n",
    "#                                 END OF YOUR CODE                             #\n",
    "################################################################################\n",
    "print((X_train.shape[0]/cancer.data.shape[0]) * 100, \"%\")\n",
    "print((y_train.shape[0]/cancer.data.shape[0]) * 100, \"%\")\n",
    "print((X_test.shape[0]/cancer.data.shape[0]) * 100, \"%\")\n",
    "print((y_test.shape[0]/cancer.data.shape[0]) * 100, \"%\")\n",
    "print((X_val.shape[0]/cancer.data.shape[0]) * 100, \"%\")\n",
    "print((y_val.shape[0]/cancer.data.shape[0]) * 100, \"%\")\n",
    "df.head()"
   ]
  },
  {
   "cell_type": "markdown",
   "metadata": {
    "colab_type": "text",
    "id": "EZ3-Fm4uPIdf"
   },
   "source": [
    "# Ensemble Methods\n",
    "\n",
    "## Problem 1. Bagging (15 points)\n"
   ]
  },
  {
   "cell_type": "code",
   "execution_count": 33,
   "metadata": {
    "colab": {},
    "colab_type": "code",
    "id": "ZzSuFIANPPRh",
    "scrolled": true
   },
   "outputs": [
    {
     "data": {
      "image/png": "[encoded data removed]",
      "text/plain": [
       "<Figure size 432x288 with 1 Axes>"
      ]
     },
     "metadata": {
      "needs_background": "light"
     },
     "output_type": "display_data"
    },
    {
     "name": "stdout",
     "output_type": "stream",
     "text": [
      "Best model with 10 classifiers and 98.24561403508771 % accuracy\n",
      "Accuracy on test: 0.9649122807017544 %\n"
     ]
    }
   ],
   "source": [
    "from sklearn import model_selection \n",
    "from sklearn.ensemble import BaggingClassifier \n",
    "import sklearn\n",
    "from sklearn import tree\n",
    "from sklearn.metrics import classification_report, confusion_matrix, accuracy_score\n",
    "\n",
    "################################################################################\n",
    "# TODO : initialize the base classifier. You can choose one of the classifiers #\n",
    "# you have learned in this course.(SVM/Decision tree)                          #\n",
    "# IMPORTANT: if you are using SVM as base classifier don't forget to add column#\n",
    "# of '1' s for bias and be careful to use the right datset in next parts.      #\n",
    "################################################################################\n",
    "# X_val = np.insert(X_val, 0, 1, axis=1)\n",
    "# X_train = np.insert(X_train, 0, 1, axis=1)\n",
    "# X_test = np.insert(X_test, 0, 1, axis=1)\n",
    "# print(X_train.shape)  \n",
    "# print(X_val.shape)  \n",
    "# print(X_test.shape) \n",
    "base_cls = tree.DecisionTreeClassifier()\n",
    "\n",
    "##################################################################################\n",
    "# TODO: Number of classifiers is a hyperparameter. Choose it by using validation #\n",
    "# data to have the best accuracy                                                 #\n",
    "# For different number of classifiers, train the model with training data and    #\n",
    "# compute accuracy for validation data. Plot accuracy-number of classifiers plot.#\n",
    "##################################################################################\n",
    "loss_val_history = []\n",
    "fscore = 0\n",
    "best_acc = []\n",
    "for i in range(1,50):\n",
    "    num_cls = i*10\n",
    "    seed = None\n",
    "    model = BaggingClassifier(base_estimator = base_cls, \n",
    "                              n_estimators = num_cls, \n",
    "                              random_state = seed)\n",
    "    model.fit(X_train,y_train)\n",
    "    sc = model.score(X_val,y_val)*100\n",
    "#     print(sc,accuracy_score(y_val,model.predict(X_val)))\n",
    "    loss_val_history.append(sc)\n",
    "    if sc > fscore:\n",
    "        fscore = sc\n",
    "        final_model = model\n",
    "        best_acc = [i*10,sc]\n",
    "    \n",
    "epochs = range(1,50)\n",
    "plt.plot(epochs, loss_val_history, 'b', label='validation loss')\n",
    "plt.title('Validation loss')\n",
    "plt.xlabel('Epochs/10')\n",
    "plt.ylabel('Loss')\n",
    "plt.legend()\n",
    "plt.show()\n",
    "################################################################################\n",
    "# compute and report the accuracy for test data.                               #\n",
    "################################################################################\n",
    "print(\"Best model with\",best_acc[0],\"classifiers and\",best_acc[1],\"% accuracy\")\n",
    "print(\"Accuracy on test:\",final_model.score(X_test,y_test),\"%\")\n"
   ]
  },
  {
   "cell_type": "markdown",
   "metadata": {
    "colab_type": "text",
    "id": "ELyA0acXgK2w"
   },
   "source": [
    "## Problem 2. Random Forest(25 points)</br>\n",
    "In this part, you should write your own code to classify the data, using random forest from sklearn package in python."
   ]
  },
  {
   "cell_type": "code",
   "execution_count": 32,
   "metadata": {
    "colab": {},
    "colab_type": "code",
    "id": "JE4eKUybgQUb"
   },
   "outputs": [
    {
     "data": {
      "image/png": "[encoded data removed]",
      "text/plain": [
       "<Figure size 432x288 with 1 Axes>"
      ]
     },
     "metadata": {
      "needs_background": "light"
     },
     "output_type": "display_data"
    },
    {
     "name": "stdout",
     "output_type": "stream",
     "text": [
      "Best model with depth 1 and 3 classifiers and 96.49122807017544 % accuracy\n"
     ]
    },
    {
     "data": {
      "image/png": "[encoded data removed]",
      "text/plain": [
       "<Figure size 432x288 with 1 Axes>"
      ]
     },
     "metadata": {
      "needs_background": "light"
     },
     "output_type": "display_data"
    },
    {
     "name": "stdout",
     "output_type": "stream",
     "text": [
      "Best model with depth 6 and 3 classifiers and 98.24561403508771 % accuracy\n",
      "train:\n",
      "              precision    recall  f1-score   support\n",
      "\n",
      "        -1.0       1.00      0.98      0.99       141\n",
      "         1.0       0.99      1.00      0.99       257\n",
      "\n",
      "    accuracy                           0.99       398\n",
      "   macro avg       0.99      0.99      0.99       398\n",
      "weighted avg       0.99      0.99      0.99       398\n",
      "\n",
      "accuracy= 0.992462311557789\n",
      "confusion matrix=\n",
      " [[138   3]\n",
      " [  0 257]]\n",
      "test:\n",
      "              precision    recall  f1-score   support\n",
      "\n",
      "        -1.0       0.98      0.91      0.94        44\n",
      "         1.0       0.95      0.99      0.97        70\n",
      "\n",
      "    accuracy                           0.96       114\n",
      "   macro avg       0.96      0.95      0.95       114\n",
      "weighted avg       0.96      0.96      0.96       114\n",
      "\n",
      "accuracy= 0.956140350877193\n",
      "confusion matrix=\n",
      " [[40  4]\n",
      " [ 1 69]]\n"
     ]
    }
   ],
   "source": [
    "from sklearn.ensemble import RandomForestClassifier\n",
    "from sklearn.metrics import classification_report, confusion_matrix, accuracy_score\n",
    "#################################################################################\n",
    "# TODO:use the validation data to determine hyperparameters(number and depth of #\n",
    "# trees) for the best accuracy                                                  # \n",
    "#################################################################################\n",
    "loss_val_history = []\n",
    "loss_history = []\n",
    "fscore = 0\n",
    "best_acc_num = []\n",
    "for i in range(1,50):\n",
    "    num_cls = i\n",
    "    seed = None\n",
    "    model = RandomForestClassifier(n_estimators=num_cls,max_depth=1)\n",
    "    model.fit(X_train,y_train)\n",
    "    sc = model.score(X_val,y_val)*100\n",
    "    loss_val_history.append(sc)\n",
    "    loss_history.append(model.score(X_train,y_train)*100)\n",
    "    if sc > fscore:\n",
    "        fscore = sc\n",
    "        final_model = model\n",
    "        best_acc_num = [i,sc]\n",
    "epochs = range(1,50)\n",
    "plt.plot(epochs, loss_val_history, 'b', label='validation loss')\n",
    "plt.plot(epochs, loss_history, 'r', label='train loss')\n",
    "plt.title('Validation loss')\n",
    "plt.xlabel('Epochs/2')\n",
    "plt.ylabel('Loss')\n",
    "plt.legend()\n",
    "plt.show()\n",
    "print(\"Best model with depth 1 and\",best_acc_num[0],\"classifiers and\",best_acc_num[1],\"% accuracy\")\n",
    "loss_val_history = []\n",
    "loss_history = []\n",
    "fscore = 0\n",
    "best_acc_d = []\n",
    "for i in range(1,15):\n",
    "    num_cls = i\n",
    "    seed = None\n",
    "    model = RandomForestClassifier(n_estimators=best_acc[0],max_depth=i)\n",
    "    model.fit(X_train,y_train)\n",
    "    sc = model.score(X_val,y_val)*100\n",
    "    loss_val_history.append(sc)\n",
    "    loss_history.append(model.score(X_train,y_train)*100)\n",
    "    if sc > fscore:\n",
    "        fscore = sc\n",
    "        final_model = model\n",
    "        best_acc_d = [i,sc]\n",
    "epochs = range(1,15)\n",
    "plt.plot(epochs, loss_val_history, 'b', label='validation loss')\n",
    "plt.plot(epochs, loss_history, 'r', label='train loss')\n",
    "plt.title('Validation loss')\n",
    "plt.xlabel('Epochs')\n",
    "plt.ylabel('Loss')\n",
    "plt.legend()\n",
    "plt.show()\n",
    "print(\"Best model with depth\",best_acc_d[0],\"and\",best_acc_num[0],\"classifiers and\",best_acc_d[1],\"% accuracy\")\n",
    "\n",
    "#######################################################################################\n",
    "#TODO:report accuracy, presition,recall and confusion matrix for train and test data  #\n",
    "#######################################################################################\n",
    "print(\"train:\")\n",
    "print(classification_report(y_train,final_model.predict(X_train)))\n",
    "print(\"accuracy=\",accuracy_score(y_train,final_model.predict(X_train)))\n",
    "print(\"confusion matrix=\\n\",confusion_matrix(y_train,final_model.predict(X_train)))\n",
    "print(\"test:\")\n",
    "print(classification_report(y_test,final_model.predict(X_test)))\n",
    "print(\"accuracy=\",accuracy_score(y_test,final_model.predict(X_test)))\n",
    "print(\"confusion matrix=\\n\",confusion_matrix(y_test,final_model.predict(X_test)))\n"
   ]
  },
  {
   "cell_type": "markdown",
   "metadata": {
    "colab_type": "text",
    "id": "pSr7G0fdgmyf"
   },
   "source": [
    "Question:\n",
    "Explain how you did choose the hyperparameters.</br>"
   ]
  },
  {
   "cell_type": "markdown",
   "metadata": {
    "colab_type": "text",
    "id": "etxNZ36Ugnp7"
   },
   "source": [
    "<div dir='rtl'>\n",
    "ابتدا ارتفاع درخت را برابر ۱ در نظر می‌گیرم و تعداد درخت‌ها را از ۱ تا ۵۰ ، ۱۰ تا ۱۰ تا زیاد می کنم، سپس  از بین آن‌‌ها مدلی که به بیشترین اکیورسی رسیده 96.4٪ انتخاب می‌کنم، سپس با همین تعداد درخت  که این اکیورسی  را گرفتم، ارتفاع درخت را از ۱ تا ۵ تغییر می‌دهیم و آنجا که بالاترین دقت را گرفتیم 98.2٪ به عنوان  مدل نهایی تایین میکنیم."
   ]
  },
  {
   "cell_type": "markdown",
   "metadata": {
    "colab_type": "text",
    "id": "fxpbM42MPg6m"
   },
   "source": [
    "## Problem 3. Boosting : AdaBoost (35 points)"
   ]
  },
  {
   "cell_type": "markdown",
   "metadata": {
    "colab_type": "text",
    "id": "rUodQdBvPrKQ"
   },
   "source": [
    "In this part you should implement adaptive boosting algorithm. </br>\n",
    "<picture>\n",
    "  <img src=\"http://uupload.ir/files/b919_adaboost.png\" alt=\"Adaboost\" width=\"600\" height=\"300\">\n",
    "</picture>\n",
    "\n"
   ]
  },
  {
   "cell_type": "code",
   "execution_count": 34,
   "metadata": {
    "colab": {},
    "colab_type": "code",
    "id": "r9TL5FGqRIoL"
   },
   "outputs": [
    {
     "name": "stdout",
     "output_type": "stream",
     "text": [
      "The testing data accuracy is: 90.52250865717583 %\n"
     ]
    }
   ],
   "source": [
    "from sklearn.tree import DecisionTreeClassifier\n",
    "from sklearn.model_selection import cross_validate\n",
    "X_train ,X_test ,y_train ,y_test = None ,None ,None ,None\n",
    "###################################################################\n",
    "# TODO: use 80% of normalized data as train and 20% as test data. #\n",
    "###################################################################\n",
    "X_train, X_test, y_train, y_test = train_test_split(X, y, test_size=0.2)\n",
    "# print(X)\n",
    "# print(y)\n",
    "\n",
    "######################################################################\n",
    "#TODO : define a weak decision tree.                                 #\n",
    "# initialize these parameters: criterion=\"entropy\" and max_depth = 1 #\n",
    "######################################################################\n",
    "Tree_model = DecisionTreeClassifier(criterion=\"entropy\",max_depth = 1)\n",
    "#############################################################################################\n",
    "#TODO : report accuracy of your weak model on train and test data by using cross validation #\n",
    "#############################################################################################\n",
    "c_v = cross_validate(Tree_model, X, y,cv=5)\n",
    "test_accuracy = np.mean(c_v['test_score']) \n",
    "print('The testing data accuracy is:' ,test_accuracy * 100 , '%')\n"
   ]
  },
  {
   "cell_type": "code",
   "execution_count": 35,
   "metadata": {
    "colab": {},
    "colab_type": "code",
    "id": "elsmjgbNRSdH"
   },
   "outputs": [],
   "source": [
    "import math\n",
    "class AdaBoost:\n",
    "    \n",
    "    def __init__(self,train_data_X,train_data_y,tree_num,test_data_X,test_data_y):\n",
    "        self.train_data_X = train_data_X\n",
    "        self.train_data_y = train_data_y\n",
    "        self.tree_num = tree_num\n",
    "        self.test_data_X = test_data_X\n",
    "        self.test_data_y = test_data_y\n",
    "        self.alphas = None\n",
    "        self.models = None\n",
    "        self.accuracy = []\n",
    "        self.test_accuracy = []\n",
    "        self.predictions = None\n",
    "        self.test_predictions = None\n",
    "        \n",
    "    def fit(self):\n",
    "        Evaluation = pd.DataFrame(self.train_data_y.copy())\n",
    "        Evaluation.columns = ['target']\n",
    "        ## TODO:Set the initial weights w = 1/N\n",
    "        Evaluation['weights'] = 1/len(self.train_data_y) \n",
    "#         print(Evaluation)\n",
    "        alphas = [] #list of alphas \n",
    "        models = [] # list of trained models\n",
    "        for t in range(self.tree_num):\n",
    "\n",
    "            ## TODO: create a weak decisiontree classifier\n",
    "            Tree_model = DecisionTreeClassifier(criterion=\"entropy\",max_depth = 1)\n",
    "            ## TODO: fit the model with train data. set the sample_weight parameter to the 'weights' columns in Evaluation dataframe\n",
    "            model = Tree_model.fit(self.train_data_X,self.train_data_y,sample_weight = Evaluation['weights'].values) \n",
    "            models.append(model)\n",
    "            predictions = model.predict(self.train_data_X)\n",
    "            score = model.score(self.train_data_X,self.train_data_y)\n",
    "\n",
    "            ## Add this columns to the Evaluation DataFrame\n",
    "            Evaluation['predictions'] = predictions\n",
    "#             print(\"2\",Evaluation)\n",
    "            ## TODO: In each row if the prediction and the target are equal,this column must be '1' and '0' O.W.\n",
    "            Evaluation['evaluation'] = None\n",
    "            for i in range(len(self.train_data_y)):\n",
    "                if Evaluation['predictions'][i] == Evaluation['target'][i]:\n",
    "                    Evaluation['evaluation'][i] = 1\n",
    "                else:\n",
    "                    Evaluation['evaluation'][i] = 0\n",
    "            ## TODO: In each row if the tha data is missclassified, this column must be 1.\n",
    "            Evaluation['misclassified'] = None\n",
    "            for i in range(len(self.train_data_y)):\n",
    "                if Evaluation['evaluation'][i] == 0:\n",
    "                    Evaluation['misclassified'][i] = 1\n",
    "                else:\n",
    "                    Evaluation['misclassified'][i] = 0\n",
    "#             print(\"3\",Evaluation)\n",
    "\n",
    "            ## TODO: Calculate the misclassification rate and accuracy and then use them to calculate error\n",
    "            accuracy = sum(Evaluation['evaluation'].values)/len(self.train_data_y)\n",
    "            misclassification = 1 - accuracy\n",
    "            err = sum(Evaluation['weights'].values*Evaluation['misclassified'].values)\n",
    "#             print(accuracy,misclassification,err)\n",
    "\n",
    "            ## TODO: Calculate the alpha values from the adaboost algorithm\n",
    "            alpha = 0.5*np.log((1-err)/err)\n",
    "            alphas.append(alpha)\n",
    "            ## TODO: update the weights\n",
    "            for i in range(len(self.train_data_y)):\n",
    "                Evaluation['weights'].values[i] = Evaluation['weights'].values[i]*math.exp(-1*alpha*Evaluation['target'].values[i]*Evaluation['predictions'].values[i])\n",
    "            Evaluation['weights'] = Evaluation['weights']/sum(Evaluation['weights'].values)\n",
    "#             print(\"4\",Evaluation)\n",
    "\n",
    "        self.alphas = alphas\n",
    "        self.models = models\n",
    "        \n",
    "        \n",
    "    def predict(self):\n",
    "        \n",
    "        accuracy = []\n",
    "        predictions = []\n",
    "        #####################################################################################\n",
    "        #TODO:                                                                              #\n",
    "        # 1- predict target for test data and append each prediction to the predictions list#\n",
    "        # 2- Create a list of accuracies which can be used to plot the accuracy against the #\n",
    "        # number of base learners used for the model                                        #\n",
    "        #####################################################################################\n",
    "        i = 0\n",
    "        for alpha,model in zip(self.alphas,self.models):\n",
    "            prediction = model.predict(self.train_data_X)\n",
    "            predictions.append(self.alphas[i]*prediction)\n",
    "            self.accuracy.append(accuracy_score(self.train_data_y,np.sign(np.sum(np.array(predictions),axis=0))))\n",
    "            i += 1\n",
    "        self.predictions = np.sign(np.sum(np.array(predictions),axis=0))        \n",
    "    def predict_test(self):\n",
    "        \n",
    "        accuracy = []\n",
    "        predictions = []\n",
    "        i = 0\n",
    "        for alpha,model in zip(self.alphas,self.models):\n",
    "            prediction = model.predict(self.test_data_X)\n",
    "            predictions.append(prediction)\n",
    "            self.test_accuracy.append(accuracy_score(self.test_data_y,np.sign(np.sum(np.array(predictions),axis=0))))\n",
    "            i += 1\n",
    "\n",
    "            \n",
    "        self.test_predictions = np.sign(np.sum(np.array(predictions),axis=0))\n"
   ]
  },
  {
   "cell_type": "code",
   "execution_count": 36,
   "metadata": {
    "colab": {},
    "colab_type": "code",
    "id": "-by9WfOXRVQG"
   },
   "outputs": [
    {
     "name": "stdout",
     "output_type": "stream",
     "text": [
      "With a number of  100 base models we receive an accuracy of  100.0 %\n"
     ]
    },
    {
     "data": {
      "image/png": "[encoded data removed]",
      "text/plain": [
       "<Figure size 720x720 with 1 Axes>"
      ]
     },
     "metadata": {
      "needs_background": "light"
     },
     "output_type": "display_data"
    },
    {
     "name": "stdout",
     "output_type": "stream",
     "text": [
      "Test Accuracy:  100.0 %\n"
     ]
    },
    {
     "data": {
      "image/png": "[encoded data removed]",
      "text/plain": [
       "<Figure size 720x720 with 1 Axes>"
      ]
     },
     "metadata": {
      "needs_background": "light"
     },
     "output_type": "display_data"
    }
   ],
   "source": [
    "# Accuracy - number of base learners plot for training data\n",
    "pd.options.mode.chained_assignment = None \n",
    "number_of_base_learners = 100\n",
    "\n",
    "fig = plt.figure(figsize=(10,10))\n",
    "ax0 = fig.add_subplot(111)\n",
    "\n",
    "\n",
    "# for i in range(number_of_base_learners):\n",
    "model = AdaBoost(X_train,y_train,number_of_base_learners,X_train,y_train)\n",
    "model.fit()\n",
    "model.predict()\n",
    "\n",
    "ax0.plot(range(len(model.accuracy)),model.accuracy,'-b')\n",
    "ax0.set_xlabel('# models used for Boosting ')\n",
    "ax0.set_ylabel('train_accuracy')\n",
    "print('With a number of ',number_of_base_learners,'base models we receive an accuracy of ',model.accuracy[-1]*100,'%')    \n",
    "                 \n",
    "plt.show()   \n",
    "#################################################################### \n",
    "# TODO: Plot Accuracy - number of base learners plot for test data #\n",
    "####################################################################  \n",
    "\n",
    "fig = plt.figure(figsize=(10,10))\n",
    "ax0 = fig.add_subplot(111)\n",
    "\n",
    "\n",
    "# for i in range(number_of_base_learners):\n",
    "model.predict_test()\n",
    "\n",
    "ax0.plot(range(len(model.test_accuracy)),model.test_accuracy,'-b')\n",
    "ax0.set_xlabel('# models used for Boosting ')\n",
    "ax0.set_ylabel('test_accuracy')       \n",
    "print('Test Accuracy: ',model.test_accuracy[-1]*100,'%')    \n",
    "plt.show() "
   ]
  },
  {
   "cell_type": "markdown",
   "metadata": {
    "colab_type": "text",
    "id": "2olecphWRi4L"
   },
   "source": [
    "# Feature Selction </br>\n",
    "\n",
    "## problem4. Filtering : correlation coefficient (25 points)\n"
   ]
  },
  {
   "cell_type": "code",
   "execution_count": 9,
   "metadata": {
    "colab": {},
    "colab_type": "code",
    "id": "oe0ynxveRmXS"
   },
   "outputs": [],
   "source": [
    "################################################################################# \n",
    "# TODO:                                                                         #\n",
    "# use 80% of normalized data as train and 20% as test data.(just use the data   # \n",
    "# from last part)                                                               #\n",
    "# 1- compute the correlation coefficient between each feature and target.       #\n",
    "# 2- Report the features that their correlation is more than 0.5                #\n",
    "# 3- compute the correlation between the features you reported in 2nd           #\n",
    "# section and report features that their correlation with other features        #\n",
    "# is less than 0.5                                                              #\n",
    "# 4- use perceptron from sklearn package to classify the data. Report accurracy #\n",
    "# for test data and sort the features based on their weights in perceptron.     #\n",
    "# IMPORTANT: Don't forget to add 1s to the end of feature vectors to be         #\n",
    "# multiplied by bias term of weight in perceptron.                              #\n",
    "# 5- compare the features you reported in section 2 and 3 with the features     #\n",
    "# that have the most weights in perceptron and write your analysis below        #\n",
    "# 6 - Classify data with perceptron and use only the features you repoted in    # \n",
    "# section 2 and report accuracy for test data.                                  #\n",
    "# 7 - Do the same with section 3 and compare accuracies.                        #\n",
    "#################################################################################"
   ]
  },
  {
   "cell_type": "code",
   "execution_count": 37,
   "metadata": {},
   "outputs": [
    {
     "name": "stdout",
     "output_type": "stream",
     "text": [
      "[0, 2, 3, 5, 6, 7, 10, 12, 13, 20, 22, 23, 25, 26, 27]\n",
      "[25, 13, 26]\n"
     ]
    }
   ],
   "source": [
    "all = np.append(np.transpose(X_train),[y_train],axis=0)\n",
    "mat = np.corrcoef(all)\n",
    "num_array = []\n",
    "num = 0\n",
    "p2 = []\n",
    "for i in range(len(mat)):\n",
    "    if i != 30:\n",
    "        if abs(mat[30][i])>0.5:\n",
    "            p2.append(i)\n",
    "print(p2)\n",
    "p3 = []\n",
    "for i in p2:\n",
    "    num = 0\n",
    "    for j in p2:\n",
    "        if j != i:\n",
    "#             print(mat[i][j])\n",
    "            if abs(mat[i][j])<0.5:\n",
    "                num+=1\n",
    "    num_array.append([i,num])\n",
    "num_array.sort(key=lambda x: -x[1])\n",
    "for i in range(3):\n",
    "    p3.append(num_array[i][0])\n",
    "\n",
    "print(p3)           "
   ]
  },
  {
   "cell_type": "code",
   "execution_count": 38,
   "metadata": {},
   "outputs": [
    {
     "name": "stdout",
     "output_type": "stream",
     "text": [
      "(455, 30)\n",
      "(114, 30)\n"
     ]
    }
   ],
   "source": [
    "# X_train1 = np.insert(X_train, 30, 1, axis=1)\n",
    "# X_test1 = np.insert(X_test, 30, 1, axis=1)\n",
    "X_train1 = X_train\n",
    "X_test1 = X_test\n",
    "print(X_train1.shape)  \n",
    "print(X_test1.shape) "
   ]
  },
  {
   "cell_type": "code",
   "execution_count": 39,
   "metadata": {},
   "outputs": [
    {
     "name": "stdout",
     "output_type": "stream",
     "text": [
      "0.9298245614035088\n",
      "[[-8.61895972e-01 -4.25634089e+00 -8.69393960e-01 -2.05730647e+00\n",
      "  -4.25205381e-01  1.81936691e+00 -3.53214620e+00 -4.12316103e+00\n",
      "   1.23737374e-01  4.79970514e+00 -5.50726055e+00  1.66044908e+00\n",
      "  -4.34359421e+00 -3.26270550e+00 -3.28476731e+00  1.93344249e+00\n",
      "   3.84848485e-03 -1.41587422e+00  7.99375246e-01  1.71270539e+00\n",
      "  -3.43315546e+00 -3.73081023e+00 -3.06663678e+00 -3.30414373e+00\n",
      "  -4.33487420e+00 -9.15572761e-01 -3.52429712e+00 -3.53068729e+00\n",
      "  -5.07983442e+00 -9.00564082e-02]]\n"
     ]
    },
    {
     "data": {
      "text/plain": [
       "[[10, 5.507260546804271],\n",
       " [28, 5.07983441750444],\n",
       " [9, 4.799705139005899],\n",
       " [12, 4.343594213824626],\n",
       " [24, 4.33487419930001],\n",
       " [1, 4.256340886033144],\n",
       " [7, 4.12316103379722],\n",
       " [21, 3.730810234541582],\n",
       " [6, 3.5321462043111485],\n",
       " [27, 3.5306872852233617],\n",
       " [26, 3.5242971246006434],\n",
       " [20, 3.4331554606901444],\n",
       " [23, 3.304143727880451],\n",
       " [14, 3.2847673114185683],\n",
       " [13, 3.2627055013279835],\n",
       " [22, 3.0666367847004357],\n",
       " [3, 2.0573064687168587],\n",
       " [15, 1.9334424850542251],\n",
       " [5, 1.8193669100055212],\n",
       " [19, 1.7127053881127106],\n",
       " [11, 1.6604490806223484],\n",
       " [17, 1.4158742186020081],\n",
       " [25, 0.9155727605242988],\n",
       " [2, 0.8693939603344663],\n",
       " [0, 0.8618959723602619],\n",
       " [18, 0.7993752462430357],\n",
       " [4, 0.4252053805181909],\n",
       " [8, 0.12373737373737576],\n",
       " [29, 0.0900564082382269],\n",
       " [16, 0.0038484848484841815]]"
      ]
     },
     "execution_count": 39,
     "metadata": {},
     "output_type": "execute_result"
    }
   ],
   "source": [
    "from sklearn.linear_model import Perceptron\n",
    "clf = Perceptron()\n",
    "clf.fit(X_train1,y_train)\n",
    "print(clf.score(X_test1,y_test))\n",
    "print(clf.coef_)\n",
    "w = []\n",
    "for i in range(len(clf.coef_[0])):\n",
    "    w.append([i,abs(clf.coef_[0][i])])\n",
    "w.sort(key=lambda x: -x[1])\n",
    "w"
   ]
  },
  {
   "cell_type": "code",
   "execution_count": 40,
   "metadata": {},
   "outputs": [
    {
     "name": "stdout",
     "output_type": "stream",
     "text": [
      "0.8771929824561403\n",
      "0.8245614035087719\n"
     ]
    }
   ],
   "source": [
    "new_X_train = np.insert(np.transpose(np.transpose(X_train)[p2]), len(p2), 1, axis=1)\n",
    "new_X_test = np.insert(np.transpose(np.transpose(X_test)[p2]), len(p2), 1, axis=1)\n",
    "clf = Perceptron()\n",
    "clf.fit(new_X_train,y_train)\n",
    "print(clf.score(new_X_test,y_test))\n",
    "new_X_train = np.insert(np.transpose(np.transpose(X_train)[p3]), len(p3), 1, axis=1)\n",
    "new_X_test = np.insert(np.transpose(np.transpose(X_test)[p3]), len(p3), 1, axis=1)\n",
    "clf = Perceptron()\n",
    "clf.fit(new_X_train,y_train)\n",
    "print(clf.score(new_X_test,y_test))"
   ]
  },
  {
   "cell_type": "markdown",
   "metadata": {
    "colab_type": "text",
    "id": "o0QJrI36-GNR"
   },
   "source": [
    "explanation of part 5 and 6:"
   ]
  },
  {
   "cell_type": "markdown",
   "metadata": {
    "colab_type": "text",
    "id": "iTC2KZ1h-QO6"
   },
   "source": [
    "<div dir='rtl'>\n",
    "همانطور که در  سوال ۵ نظری هم گفته شد، در روش‌ هایی مثل perceptron، bias inductive وجود دارد که بادگیری بر  اساس  آن انجام می‌گیرد. این باعث می‌شود  به یک سری ویژگی‌‌های خاص توجه کند  ولی در feature selection ما  یک سری ویژگی کلی توجه می‌کنیم برای همین  ویژگی‌هایی که مورد توجه  قرار  می‌گیرد در ۲ روش متفاوت است."
   ]
  },
  {
   "cell_type": "markdown",
   "metadata": {
    "colab_type": "text",
    "id": "k_XG0iKSRqnE"
   },
   "source": [
    "Question: Is it important to extract features before classifying using methods like decision tree and SVM? why? "
   ]
  },
  {
   "cell_type": "markdown",
   "metadata": {
    "colab_type": "text",
    "id": "ro6v3JSBRsd5"
   },
   "source": [
    "<div dir='rtl'>\n",
    "بله مهم  است، چون  این کار مانع overfitting می‌شود و باعث می‌شود گاها به دقت  بالاتری روی تست برسیم. چون در این روش به ویژگی‌های کلی‌تر توجه  می‌کند و انتخاب ‌می‌کند."
   ]
  },
  {
   "cell_type": "markdown",
   "metadata": {
    "colab_type": "text",
    "id": "eQjRm5a6j8KZ"
   },
   "source": [
    "## problem 5. mRMR (10 bonus points) </br>\n",
    "In this part you should write your own code and classify the data using mRMR method.You can use \"pymrmr\" package for this part."
   ]
  },
  {
   "cell_type": "code",
   "execution_count": 0,
   "metadata": {
    "colab": {},
    "colab_type": "code",
    "id": "xQs-LPupRoDx"
   },
   "outputs": [],
   "source": []
  }
 ],
 "metadata": {
  "colab": {
   "collapsed_sections": [],
   "name": "MLBio_HW3_P.ipynb",
   "provenance": []
  },
  "kernelspec": {
   "display_name": "Python 3",
   "language": "python",
   "name": "python3"
  },
  "language_info": {
   "codemirror_mode": {
    "name": "ipython",
    "version": 3
   },
   "file_extension": ".py",
   "mimetype": "text/x-python",
   "name": "python",
   "nbconvert_exporter": "python",
   "pygments_lexer": "ipython3",
   "version": "3.7.4"
  }
 },
 "nbformat": 4,
 "nbformat_minor": 1
}
